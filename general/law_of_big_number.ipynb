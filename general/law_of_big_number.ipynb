{
 "cells": [
  {
   "attachments": {},
   "cell_type": "markdown",
   "metadata": {},
   "source": [
    "### The larger the sample, the more likely its means closer to population mean"
   ]
  },
  {
   "cell_type": "code",
   "execution_count": 4,
   "metadata": {},
   "outputs": [],
   "source": [
    "import matplotlib.pyplot as plt\n",
    "import random\n",
    "import numpy as np\n",
    "\n",
    "\n",
    "\n",
    "num_samples = 1000\n",
    "\n",
    "random_numbers = np.random.normal(6, 2, 1000) # Mean = 6, variacne = 2\n",
    "\n",
    "#plt.hist(random_numbers, bins=20, density=True)\n",
    " \n",
    "#plt.savefig('histogram_pdf.png')\n",
    "#plt.show()"
   ]
  },
  {
   "cell_type": "code",
   "execution_count": 34,
   "metadata": {},
   "outputs": [
    {
     "name": "stdout",
     "output_type": "stream",
     "text": [
      "experiment 10 time, Sample size : 1, std is 1.57 mean are [6.596526007406686, 8.91026866648996, 6.388523295487219, 5.434887800661468, 5.130871542447239, 5.231386069305473, 3.4960230103077046, 6.103831273582746, 7.432356241387385, 8.618364396591506]\n",
      "experiment 10 time, Sample size : 10, std is 0.47 mean are [5.999143094545136, 5.486618865115938, 5.473122550225078, 6.3624157174285925, 5.930360211244572, 6.831167213634946, 5.8974271432998915, 6.274683516955267, 5.380383122700324, 6.594617014174368]\n",
      "experiment 10 time, Sample size : 20, std is 0.42 mean are [5.614286802308333, 5.762014140558681, 6.219810350733809, 6.242266920622633, 6.834313330289187, 6.286291521238493, 6.585114678171647, 6.814607074976037, 5.766329124421954, 6.579387957404604]\n",
      "experiment 10 time, Sample size : 50, std is 0.18 mean are [6.1053597308416245, 5.590127432961049, 5.925849534056006, 6.027665970761998, 6.187434679327712, 6.035524389663917, 6.233370388813737, 6.051371012056511, 5.813723344711763, 6.0826851953685335]\n",
      "experiment 10 time, Sample size : 100, std is 0.17 mean are [6.04139251869119, 6.186831205624801, 6.176605229312292, 6.170522919261476, 5.721211662707027, 5.845790101803888, 5.788001806297375, 6.017139873280054, 6.143965050541022, 6.185255175459993]\n"
     ]
    },
    {
     "data": {
      "text/plain": [
       "0.1705917989686365"
      ]
     },
     "execution_count": 34,
     "metadata": {},
     "output_type": "execute_result"
    }
   ],
   "source": [
    "\n",
    "def experiment_sample_std(sample_size, experiment_times = 10):\n",
    "    means = []\n",
    "\n",
    "    for i in range(experiment_times):\n",
    "        sample = np.random.choice(random_numbers, sample_size)\n",
    "        mean = np.mean(sample) \n",
    "        means.append(mean)\n",
    "\n",
    "    print(f\"experiment {experiment_times} time, Sample size : {sample_size}, std is {np.std(means):.2f} mean are {means}\")\n",
    "\n",
    "    return np.std(means)\n",
    "\n",
    "\n",
    "\n",
    "experiment_sample_std(1)\n",
    "experiment_sample_std(10)\n",
    "experiment_sample_std(20)\n",
    "experiment_sample_std(50)\n",
    "experiment_sample_std(100)"
   ]
  }
 ],
 "metadata": {
  "kernelspec": {
   "display_name": "base",
   "language": "python",
   "name": "python3"
  },
  "language_info": {
   "codemirror_mode": {
    "name": "ipython",
    "version": 3
   },
   "file_extension": ".py",
   "mimetype": "text/x-python",
   "name": "python",
   "nbconvert_exporter": "python",
   "pygments_lexer": "ipython3",
   "version": "3.9.12"
  },
  "orig_nbformat": 4
 },
 "nbformat": 4,
 "nbformat_minor": 2
}
